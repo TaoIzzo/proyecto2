{
 "cells": [
  {
   "cell_type": "markdown",
   "id": "224878e3-7206-4ffc-b8dc-30e75a9ec218",
   "metadata": {},
   "source": [
    "# Deep learning, reconocimiento de imagenes "
   ]
  },
  {
   "cell_type": "code",
   "execution_count": 1,
   "id": "e18b2069-c03c-4f70-baff-9660a4891506",
   "metadata": {},
   "outputs": [],
   "source": [
    "import tensorflow as tf\n",
    "import numpy as np\n",
    "import pandas as pd"
   ]
  },
  {
   "cell_type": "code",
   "execution_count": 2,
   "id": "62ca5345-54fb-453a-a62e-32c426ea87cc",
   "metadata": {},
   "outputs": [
    {
     "name": "stderr",
     "output_type": "stream",
     "text": [
      "WARNING:absl:Compiled the loaded model, but the compiled metrics have yet to be built. `model.compile_metrics` will be empty until you train or evaluate the model.\n"
     ]
    },
    {
     "name": "stdout",
     "output_type": "stream",
     "text": [
      "Model loaded successfully.\n"
     ]
    }
   ],
   "source": [
    "# Cargar el modelo guardado\n",
    "model = tf.keras.models.load_model('saved_model/my_model.h5')\n",
    "print(\"Model loaded successfully.\")"
   ]
  },
  {
   "cell_type": "code",
   "execution_count": 3,
   "id": "93141d86-1590-4e24-8b89-bf48da17b5ed",
   "metadata": {},
   "outputs": [],
   "source": [
    "# Función para cargar y preprocesar una imagen\n",
    "def load_img(img_path):\n",
    "    # Cargar y redimensionar una imagen\n",
    "    img = tf.keras.utils.load_img(\n",
    "        img_path,\n",
    "        target_size=(299, 299, 3)  # Cambia el tamaño de la imagen según lo que el modelo espera\n",
    "    )\n",
    "    \n",
    "    # Convertir la imagen a un array numpy\n",
    "    img_array = tf.keras.preprocessing.image.img_to_array(img)\n",
    "    \n",
    "    # Normalizar los valores entre 0 y 1\n",
    "    return img_array / 255.0"
   ]
  },
  {
   "cell_type": "code",
   "execution_count": 4,
   "id": "01eebdda-b51a-4993-89d6-4947cf58b11a",
   "metadata": {},
   "outputs": [],
   "source": [
    "img_path = r'data\\flickr_style\\images\\462368857_64840cfe25.jpg'"
   ]
  },
  {
   "cell_type": "code",
   "execution_count": 5,
   "id": "2a95f4d9-24c1-4bed-aceb-3c463a7c7722",
   "metadata": {},
   "outputs": [],
   "source": [
    "# Cargar y preprocesar la imagen\n",
    "x_new = np.array([load_img(img_path)])  # Cargar una sola imagen"
   ]
  },
  {
   "cell_type": "code",
   "execution_count": 6,
   "id": "36c74eaa-4139-4037-8b20-559bfc640158",
   "metadata": {},
   "outputs": [],
   "source": [
    "# Definir los nombres de las clases\n",
    "class_names = ['Detailed', 'Pastel', 'Melancholy', 'Noir', 'HDR']"
   ]
  },
  {
   "cell_type": "code",
   "execution_count": 7,
   "id": "69b0e50a-1995-4c1b-903a-e9e32b480374",
   "metadata": {},
   "outputs": [
    {
     "name": "stdout",
     "output_type": "stream",
     "text": [
      "\u001b[1m1/1\u001b[0m \u001b[32m━━━━━━━━━━━━━━━━━━━━\u001b[0m\u001b[37m\u001b[0m \u001b[1m1s\u001b[0m 981ms/step\n",
      "Predictions:\n",
      "[[0.0617706  0.7267769  0.18667033 0.0099084  0.01487373]]\n"
     ]
    }
   ],
   "source": [
    "# Hacer predicciones con el modelo cargado\n",
    "predictions = model.predict(x_new)\n",
    "print(\"Predictions:\")\n",
    "print(predictions)"
   ]
  },
  {
   "cell_type": "code",
   "execution_count": 8,
   "id": "9bb408ed-f88b-4fc1-aac5-6e07d25ee4b2",
   "metadata": {},
   "outputs": [
    {
     "name": "stdout",
     "output_type": "stream",
     "text": [
      "Predicted Class:\n",
      "Pastel\n"
     ]
    }
   ],
   "source": [
    "# Si es un modelo de clasificación, obtener la clase predicha\n",
    "predicted_class = np.argmax(predictions, axis=1)[0]  # Obtener el índice de la clase predicha\n",
    "predicted_class_name = class_names[predicted_class]  # Obtener el nombre de la clase\n",
    "print(\"Predicted Class:\")\n",
    "print(predicted_class_name)"
   ]
  }
 ],
 "metadata": {
  "kernelspec": {
   "display_name": "Python (p2)",
   "language": "python",
   "name": "p2"
  },
  "language_info": {
   "codemirror_mode": {
    "name": "ipython",
    "version": 3
   },
   "file_extension": ".py",
   "mimetype": "text/x-python",
   "name": "python",
   "nbconvert_exporter": "python",
   "pygments_lexer": "ipython3",
   "version": "3.11.4"
  }
 },
 "nbformat": 4,
 "nbformat_minor": 5
}
